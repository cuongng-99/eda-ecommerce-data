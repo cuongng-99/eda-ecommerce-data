{
 "cells": [
  {
   "cell_type": "code",
   "execution_count": 1,
   "id": "3a5fa1c0-a86f-4333-9725-fd58e5705204",
   "metadata": {},
   "outputs": [],
   "source": [
    "import pandas as pd \n",
    "import numpy as np\n",
    "from sklearn.metrics.pairwise import cosine_similarity\n",
    "from scipy import sparse \n",
    "import heapq"
   ]
  },
  {
   "cell_type": "code",
   "execution_count": 2,
   "id": "b4520fbb-3a2c-4ff9-89d1-da49e91f1aca",
   "metadata": {},
   "outputs": [],
   "source": [
    "data = pd.read_csv(\"./data_cleaned.csv\")\n",
    "# ultility matrix\n",
    "ultil_matrix = data.groupby([\"StockCode\", \"Description\", \"CustomerID\"])[\"Quantity\"].sum().reset_index()"
   ]
  },
  {
   "cell_type": "code",
   "execution_count": 3,
   "id": "61890c38-8717-4dda-a5ed-cdcf06a1faf6",
   "metadata": {},
   "outputs": [],
   "source": [
    "ultil_matrix[\"product_id\"] = pd.factorize(ultil_matrix[\"StockCode\"])[0] \n",
    "ultil_matrix[\"customer_id\"] = pd.factorize(ultil_matrix[\"CustomerID\"])[0]"
   ]
  },
  {
   "cell_type": "code",
   "execution_count": 4,
   "id": "b8e2b6b1-39c4-486c-beff-dfddd13afee2",
   "metadata": {},
   "outputs": [
    {
     "data": {
      "text/html": [
       "<div>\n",
       "<style scoped>\n",
       "    .dataframe tbody tr th:only-of-type {\n",
       "        vertical-align: middle;\n",
       "    }\n",
       "\n",
       "    .dataframe tbody tr th {\n",
       "        vertical-align: top;\n",
       "    }\n",
       "\n",
       "    .dataframe thead th {\n",
       "        text-align: right;\n",
       "    }\n",
       "</style>\n",
       "<table border=\"1\" class=\"dataframe\">\n",
       "  <thead>\n",
       "    <tr style=\"text-align: right;\">\n",
       "      <th></th>\n",
       "      <th>StockCode</th>\n",
       "      <th>Description</th>\n",
       "      <th>CustomerID</th>\n",
       "      <th>Quantity</th>\n",
       "      <th>product_id</th>\n",
       "      <th>customer_id</th>\n",
       "    </tr>\n",
       "  </thead>\n",
       "  <tbody>\n",
       "    <tr>\n",
       "      <th>0</th>\n",
       "      <td>10002</td>\n",
       "      <td>INFLATABLE POLITICAL GLOBE</td>\n",
       "      <td>12451.0</td>\n",
       "      <td>12</td>\n",
       "      <td>0</td>\n",
       "      <td>0</td>\n",
       "    </tr>\n",
       "    <tr>\n",
       "      <th>1</th>\n",
       "      <td>10002</td>\n",
       "      <td>INFLATABLE POLITICAL GLOBE</td>\n",
       "      <td>12510.0</td>\n",
       "      <td>24</td>\n",
       "      <td>0</td>\n",
       "      <td>1</td>\n",
       "    </tr>\n",
       "    <tr>\n",
       "      <th>2</th>\n",
       "      <td>10002</td>\n",
       "      <td>INFLATABLE POLITICAL GLOBE</td>\n",
       "      <td>12637.0</td>\n",
       "      <td>12</td>\n",
       "      <td>0</td>\n",
       "      <td>2</td>\n",
       "    </tr>\n",
       "    <tr>\n",
       "      <th>3</th>\n",
       "      <td>10002</td>\n",
       "      <td>INFLATABLE POLITICAL GLOBE</td>\n",
       "      <td>12673.0</td>\n",
       "      <td>1</td>\n",
       "      <td>0</td>\n",
       "      <td>3</td>\n",
       "    </tr>\n",
       "    <tr>\n",
       "      <th>4</th>\n",
       "      <td>10002</td>\n",
       "      <td>INFLATABLE POLITICAL GLOBE</td>\n",
       "      <td>12681.0</td>\n",
       "      <td>12</td>\n",
       "      <td>0</td>\n",
       "      <td>4</td>\n",
       "    </tr>\n",
       "  </tbody>\n",
       "</table>\n",
       "</div>"
      ],
      "text/plain": [
       "  StockCode                  Description  CustomerID  Quantity  product_id  \\\n",
       "0     10002  INFLATABLE POLITICAL GLOBE      12451.0        12           0   \n",
       "1     10002  INFLATABLE POLITICAL GLOBE      12510.0        24           0   \n",
       "2     10002  INFLATABLE POLITICAL GLOBE      12637.0        12           0   \n",
       "3     10002  INFLATABLE POLITICAL GLOBE      12673.0         1           0   \n",
       "4     10002  INFLATABLE POLITICAL GLOBE      12681.0        12           0   \n",
       "\n",
       "   customer_id  \n",
       "0            0  \n",
       "1            1  \n",
       "2            2  \n",
       "3            3  \n",
       "4            4  "
      ]
     },
     "execution_count": 4,
     "metadata": {},
     "output_type": "execute_result"
    }
   ],
   "source": [
    "ultil_matrix.head()"
   ]
  },
  {
   "cell_type": "code",
   "execution_count": 5,
   "id": "bdc6196b-03a8-4e30-9654-22e2cf9fc254",
   "metadata": {},
   "outputs": [
    {
     "data": {
      "text/plain": [
       "array([[   0,    0,   12],\n",
       "       [   1,    0,   24],\n",
       "       [   2,    0,   12],\n",
       "       ...,\n",
       "       [ 612, 3530,   -1],\n",
       "       [2110, 3530,   -1],\n",
       "       [3429, 3530,   -1]], dtype=int64)"
      ]
     },
     "execution_count": 5,
     "metadata": {},
     "output_type": "execute_result"
    }
   ],
   "source": [
    "Y_data = ultil_matrix[[\"customer_id\", \"product_id\", \"Quantity\"]].to_numpy()\n",
    "Y_data"
   ]
  },
  {
   "cell_type": "code",
   "execution_count": 6,
   "id": "1f967c37-3539-4d0b-ad9b-23647d484f1d",
   "metadata": {},
   "outputs": [
    {
     "name": "stdout",
     "output_type": "stream",
     "text": [
      "3531 4235\n"
     ]
    }
   ],
   "source": [
    "# create dict product_id with product name and customer_id with CustomerID\n",
    "df_product = ultil_matrix[[\"product_id\", \"Description\"]].drop_duplicates().set_index(\"product_id\")\n",
    "dict_product = df_product.to_dict()[\"Description\"]\n",
    "\n",
    "# dict customer\n",
    "df_customer = ultil_matrix[[\"CustomerID\", \"customer_id\"]].drop_duplicates().set_index(\"customer_id\")\n",
    "dict_customer = df_customer.to_dict()[\"CustomerID\"]\n",
    "\n",
    "print(len(dict_product), len(dict_customer))"
   ]
  },
  {
   "cell_type": "code",
   "execution_count": 7,
   "id": "e0112a61-3b83-4347-8cc8-e276339584d1",
   "metadata": {},
   "outputs": [],
   "source": [
    "class CF():\n",
    "    \"\"\"Collaborative Filtering class for user-user and item-item recommendations.\"\"\"\n",
    "    \n",
    "    def __init__(self, Y_data, k, dist_func=cosine_similarity, uuCF=1):\n",
    "        self.uuCF = uuCF  # user-user (1) or item-item (0) CF\n",
    "        self.Y_data = Y_data if uuCF else Y_data[:, [1, 0, 2]]\n",
    "        self.k = k\n",
    "        self.dist_func = dist_func\n",
    "        self.Ybar_data = None\n",
    "        self.n_users = int(np.max(self.Y_data[:, 0])) + 1 \n",
    "        self.n_items = int(np.max(self.Y_data[:, 1])) + 1\n",
    "    \n",
    "    \n",
    "    def normalize_Y(self):\n",
    "        users = self.Y_data[:, 0]  # all users - first col of the Y_data\n",
    "        self.Ybar_data = self.Y_data.copy()\n",
    "        self.mu = np.zeros((self.n_users,))\n",
    "\n",
    "        for n in range(self.n_users):\n",
    "            ids = np.where(users == n)[0].astype(np.int32)\n",
    "            ordered = self.Y_data[ids, 2]\n",
    "\n",
    "            if ordered.size > 0:  # Check if there are ordered\n",
    "                m = np.mean(ordered)\n",
    "            else:\n",
    "                m = 0  # Default to 0 if no ordered\n",
    "\n",
    "            self.mu[n] = m\n",
    "            self.Ybar_data[ids, 2] = ordered - self.mu[n]\n",
    "\n",
    "        self.Ybar = sparse.coo_matrix((self.Ybar_data[:, 2],\n",
    "                                        (self.Ybar_data[:, 1], self.Ybar_data[:, 0])), \n",
    "                                        (self.n_items, self.n_users)).tocsr()\n",
    "\n",
    "    def similarity(self):\n",
    "        eps = 1e-6\n",
    "        self.S = self.dist_func(self.Ybar.T, self.Ybar.T)\n",
    "    \n",
    "    def refresh(self):\n",
    "        \"\"\"Normalize data and calculate similarity matrix again.\"\"\"\n",
    "        self.normalize_Y()\n",
    "        self.similarity() \n",
    "        \n",
    "    def fit(self):\n",
    "        self.refresh()\n",
    "        \n",
    "    def __pred(self, u, i, normalized=1):\n",
    "        \"\"\"Predict the rating of user u for item i (normalized).\"\"\"\n",
    "        ids = np.where(self.Y_data[:, 1] == i)[0].astype(np.int32)\n",
    "        users_rated_i = (self.Y_data[ids, 0]).astype(np.int32)\n",
    "        sim = self.S[u, users_rated_i]\n",
    "        a = np.argsort(sim)[-self.k:] \n",
    "        nearest_s = sim[a]\n",
    "        r = self.Ybar[i, users_rated_i[a]]\n",
    "        \n",
    "        if normalized:\n",
    "            return (r * nearest_s)[0] / (np.abs(nearest_s).sum() + 1e-8)\n",
    "        return (r * nearest_s)[0] / (np.abs(nearest_s).sum() + 1e-8) + self.mu[u]\n",
    "    \n",
    "            \n",
    "    def recommend(self, u):\n",
    "        \"\"\"Determine all items that should be recommended for user u.\"\"\"\n",
    "        ids = np.where(self.Y_data[:, 0] == u)[0]\n",
    "        items_rated_by_u = self.Y_data[ids, 1].tolist()              \n",
    "        list_recommended_items = []\n",
    "        \n",
    "        for i in range(self.n_items):\n",
    "            # print(self.n_items)\n",
    "            if i not in items_rated_by_u:\n",
    "                rating = self.__pred(u, i)\n",
    "                if rating > 0: \n",
    "                    list_recommended_items.append((i, rating))\n",
    "        \n",
    "        top_5_largest = heapq.nlargest(5, list_recommended_items, key=lambda x: x[1])\n",
    "        top_5_items = [item[0] for item in top_5_largest]\n",
    "        return top_5_items \n",
    "\n",
    "    def print_recommendation(self):\n",
    "        \n",
    "        \"\"\"Print all items which should be recommended for each user.\"\"\"\n",
    "        print('Recommendation: ')\n",
    "        for i, u in enumerate(range(self.n_users)):\n",
    "            recommended_items = self.recommend(u)\n",
    "            if self.uuCF:\n",
    "                print('Top 5 items for user:', dict_customer[u], [dict_product[item] for item in recommended_items])\n",
    "            else: \n",
    "                print('Top 5 users for item:', dict_product[u], [dict_customer[item] for item in recommended_items])\n",
    "            if i >= 5:\n",
    "                break"
   ]
  },
  {
   "cell_type": "code",
   "execution_count": 8,
   "id": "d9ccd42e-9c93-422d-aa00-c84c3b86cf8a",
   "metadata": {},
   "outputs": [],
   "source": [
    "rs = CF(Y_data, k = 30, uuCF = 1)\n",
    "rs.fit()"
   ]
  },
  {
   "cell_type": "code",
   "execution_count": 9,
   "id": "ca615697-10dd-4474-9d87-3fb2a0cc9cef",
   "metadata": {},
   "outputs": [
    {
     "name": "stdout",
     "output_type": "stream",
     "text": [
      "Recommendation: \n",
      "Top 5 item(s) for user: 12451.0 ['CREAM SWEETHEART MINI CHEST', 'ASSORTED COLOUR LIZARD SUCTION HOOK', 'LARGE ROUND CUTGLASS CANDLESTICK', 'FAMILY PHOTO FRAME CORNICE', 'DISCO BALL CHRISTMAS DECORATION']\n",
      "Top 5 item(s) for user: 12510.0 ['BEADED CRYSTAL HEART GREEN ON STICK', 'BEADED CRYSTAL HEART PINK ON STICK', 'SKULLS AND CROSSBONES WRAP', 'WOOLLY HAT SOCK GLOVE ADVENT STRING', 'SPACEBOY GIFT WRAP']\n",
      "Top 5 item(s) for user: 12637.0 ['BEADED CRYSTAL HEART GREEN ON STICK', 'Discount', 'MERCHANT CHANDLER CREDIT ERROR, STO', 'SKULLS AND CROSSBONES WRAP', 'RED TOADSTOOL LED NIGHT LIGHT']\n",
      "Top 5 item(s) for user: 12673.0 ['BEADED CRYSTAL HEART GREEN ON STICK', 'ASSORTED COLOUR LIZARD SUCTION HOOK', 'WOOLLY HAT SOCK GLOVE ADVENT STRING', 'MERCHANT CHANDLER CREDIT ERROR, STO', 'DISCO BALL CHRISTMAS DECORATION']\n",
      "Top 5 item(s) for user: 12681.0 ['BEADED CRYSTAL HEART GREEN ON STICK', 'CREAM SWEETHEART MINI CHEST', 'ASSORTED COLOUR LIZARD SUCTION HOOK', 'PACK OF 60 PINK PAISLEY CAKE CASES', 'LARGE ROUND CUTGLASS CANDLESTICK']\n",
      "Top 5 item(s) for user: 12682.0 ['BEADED CRYSTAL HEART GREEN ON STICK', '60 TEATIME FAIRY CAKE CASES', 'CREAM SWEETHEART MINI CHEST', 'PACK OF 60 DINOSAUR CAKE CASES', 'WORLD WAR 2 GLIDERS ASSTD DESIGNS']\n"
     ]
    }
   ],
   "source": [
    "rs.print_recommendation()"
   ]
  },
  {
   "cell_type": "code",
   "execution_count": 10,
   "id": "c7de92ad-922a-456a-a32e-ef03b6626e39",
   "metadata": {},
   "outputs": [
    {
     "name": "stdout",
     "output_type": "stream",
     "text": [
      "Recommendation: \n",
      "Top 5 users for item: INFLATABLE POLITICAL GLOBE  [13743.0, 14434.0, 16989.0, 14051.0, 16672.0]\n",
      "Top 5 users for item: GROOVY CACTUS INFLATABLE [15061.0, 14434.0, 16672.0, 13767.0, 13743.0]\n",
      "Top 5 users for item: DOGGY RUBBER [13743.0, 13767.0, 15078.0, 14051.0, 16681.0]\n",
      "Top 5 users for item: HEARTS WRAPPING TAPE  [17045.0, 17980.0, 18220.0, 14960.0, 16018.0]\n",
      "Top 5 users for item: SPOTS ON RED BOOKCOVER TAPE [15061.0, 18229.0, 18139.0, 16401.0, 13767.0]\n",
      "Top 5 users for item: ARMY CAMO BOOKCOVER TAPE []\n"
     ]
    }
   ],
   "source": [
    "rs = CF(Y_data, k = 30, uuCF = 0)\n",
    "rs.fit()\n",
    "\n",
    "rs.print_recommendation()"
   ]
  },
  {
   "cell_type": "code",
   "execution_count": null,
   "id": "c7e169ca-b218-4168-b728-a01b3f1c2499",
   "metadata": {},
   "outputs": [],
   "source": []
  }
 ],
 "metadata": {
  "kernelspec": {
   "display_name": "Python 3",
   "language": "python",
   "name": "python3"
  },
  "language_info": {
   "codemirror_mode": {
    "name": "ipython",
    "version": 3
   },
   "file_extension": ".py",
   "mimetype": "text/x-python",
   "name": "python",
   "nbconvert_exporter": "python",
   "pygments_lexer": "ipython3",
   "version": "3.6.6"
  }
 },
 "nbformat": 4,
 "nbformat_minor": 5
}
